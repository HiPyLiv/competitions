{
 "cells": [
  {
   "cell_type": "markdown",
   "metadata": {},
   "source": [
    "# Adam Ruby - HiPy Nov 1st Registration Competition"
   ]
  },
  {
   "cell_type": "markdown",
   "metadata": {},
   "source": [
    "Firstly, import modules: \n",
    "- csv to upload the file. \n",
    "- numpy for array manipulation.\n",
    "- pandas for dataframe and plot creation.\n",
    "\n",
    "and allow viewing of the plots."
   ]
  },
  {
   "cell_type": "code",
   "execution_count": 112,
   "metadata": {
    "collapsed": true
   },
   "outputs": [],
   "source": [
    "%matplotlib inline\n",
    "\n",
    "import csv\n",
    "import numpy as np\n",
    "import pandas as pd"
   ]
  },
  {
   "cell_type": "markdown",
   "metadata": {},
   "source": [
    "Module CSV is used to import the registration data as a list"
   ]
  },
  {
   "cell_type": "code",
   "execution_count": 114,
   "metadata": {},
   "outputs": [],
   "source": [
    "with open('registration_data.csv', newline='') as f:\n",
    "    reg_csv = csv.reader(f, delimiter=',', skipinitialspace=True)\n",
    "    \n",
    "    reg_list = [line for line in reg_csv]"
   ]
  },
  {
   "cell_type": "markdown",
   "metadata": {},
   "source": [
    "Inital list includes headings in first row. For just the data the first row is excluded."
   ]
  },
  {
   "cell_type": "code",
   "execution_count": 115,
   "metadata": {},
   "outputs": [
    {
     "data": {
      "text/plain": [
       "[['Stephenson Institute', 'Email'],\n",
       " ['Chemistry', 'Email'],\n",
       " ['Biology', 'Poster/Flyer'],\n",
       " ['Management School', 'Other'],\n",
       " ['Other', 'Other']]"
      ]
     },
     "execution_count": 115,
     "metadata": {},
     "output_type": "execute_result"
    }
   ],
   "source": [
    "\n",
    "reg_labels = reg_list[0]\n",
    "\n",
    "reg_list = reg_list[1:]\n",
    "reg_list[:5]  #To view first five rows as example"
   ]
  },
  {
   "cell_type": "markdown",
   "metadata": {},
   "source": [
    "To provide more information, it would be nice to include the percentage of the HiPy methods attendees were exposed to that lead to the successful registration. \n",
    "\n",
    "A pandas dataframe is utilised from the reg_list and by using the in-built 'groupby' function the frequency for each successful exposure methods is counted."
   ]
  },
  {
   "cell_type": "code",
   "execution_count": 116,
   "metadata": {},
   "outputs": [
    {
     "data": {
      "text/html": [
       "<div>\n",
       "<style>\n",
       "    .dataframe thead tr:only-child th {\n",
       "        text-align: right;\n",
       "    }\n",
       "\n",
       "    .dataframe thead th {\n",
       "        text-align: left;\n",
       "    }\n",
       "\n",
       "    .dataframe tbody tr th {\n",
       "        vertical-align: top;\n",
       "    }\n",
       "</style>\n",
       "<table border=\"1\" class=\"dataframe\">\n",
       "  <thead>\n",
       "    <tr style=\"text-align: right;\">\n",
       "      <th></th>\n",
       "      <th>Department</th>\n",
       "    </tr>\n",
       "    <tr>\n",
       "      <th>How did you hear about HiPy?</th>\n",
       "      <th></th>\n",
       "    </tr>\n",
       "  </thead>\n",
       "  <tbody>\n",
       "    <tr>\n",
       "      <th>Email</th>\n",
       "      <td>25</td>\n",
       "    </tr>\n",
       "    <tr>\n",
       "      <th>Other</th>\n",
       "      <td>9</td>\n",
       "    </tr>\n",
       "    <tr>\n",
       "      <th>Poster/Flyer</th>\n",
       "      <td>2</td>\n",
       "    </tr>\n",
       "    <tr>\n",
       "      <th>UoL video screen</th>\n",
       "      <td>2</td>\n",
       "    </tr>\n",
       "    <tr>\n",
       "      <th>Word of mouth</th>\n",
       "      <td>9</td>\n",
       "    </tr>\n",
       "  </tbody>\n",
       "</table>\n",
       "</div>"
      ],
      "text/plain": [
       "                              Department\n",
       "How did you hear about HiPy?            \n",
       "Email                                 25\n",
       "Other                                  9\n",
       "Poster/Flyer                           2\n",
       "UoL video screen                       2\n",
       "Word of mouth                          9"
      ]
     },
     "execution_count": 116,
     "metadata": {},
     "output_type": "execute_result"
    }
   ],
   "source": [
    "reg_df = pd.DataFrame.from_records(reg_list, columns=reg_labels)\n",
    "reg_df.replace(r'^\\s*$', np.nan, regex=True, inplace = True)\n",
    "freq = reg_df.groupby('How did you hear about HiPy?').count()\n",
    "freq"
   ]
  },
  {
   "cell_type": "markdown",
   "metadata": {},
   "source": [
    "Lists are made for the variable names in order for it to be possible to count how people found out about HiPy and from what department.\n",
    "- dep_list: List of department names\n",
    "- found_list: List of ways people found out about HiPy"
   ]
  },
  {
   "cell_type": "code",
   "execution_count": 117,
   "metadata": {
    "collapsed": true
   },
   "outputs": [],
   "source": [
    "dep_list = ['Architecture','Astrophysics','Biology','Chemistry','Computer Science','EEE','Earth, Ocean, Ecology','External',\n",
    "            'Institute of Infection /  Global Health','Management School','Mathematics','Other','Physics','Stephenson Institute']\n",
    "found_list = ['Email','Other','Poster/Flyer','UoL video screen','Word of mouth']"
   ]
  },
  {
   "cell_type": "markdown",
   "metadata": {},
   "source": [
    "Initalised count to zero, this will represent the number of people from each department.\n",
    "pop_list is a list used to store the values of count."
   ]
  },
  {
   "cell_type": "code",
   "execution_count": 118,
   "metadata": {
    "collapsed": true
   },
   "outputs": [],
   "source": [
    "count = 0\n",
    "pop_list = np.empty([len(dep_list),len(found_list)])"
   ]
  },
  {
   "cell_type": "markdown",
   "metadata": {},
   "source": [
    "Loop is made so that for each cell containing a certain way of finding out about HiPy (eg 'Email'), the number of people who found out that particular way from each particular department is counted correctly.\n",
    "\n",
    "The names of the variables are iterated through using the lists dep_list and found_list."
   ]
  },
  {
   "cell_type": "code",
   "execution_count": 119,
   "metadata": {
    "collapsed": true
   },
   "outputs": [],
   "source": [
    "for i in range(0,len(dep_list)):\n",
    "    for j in range(0,len(found_list)):\n",
    "        count = 0\n",
    "        for k in range(0,len(reg_list)):\n",
    "            if reg_list[k][0] == dep_list[i]:\n",
    "                if reg_list[k][1] == found_list[j]:\n",
    "                    count = count + 1\n",
    "        pop_list[i][j] = count"
   ]
  },
  {
   "cell_type": "markdown",
   "metadata": {},
   "source": [
    "To include the total percentage of how people were exposed to HiPy a for loop was required using the grouped pandas dataframe found early."
   ]
  },
  {
   "cell_type": "code",
   "execution_count": 120,
   "metadata": {
    "collapsed": true
   },
   "outputs": [],
   "source": [
    "freq_list = []\n",
    "total = 0\n",
    "for g in range(0,len(freq['Department'])):\n",
    "    freq_list.append(freq['Department'][g])\n",
    "    total = total + freq_list[g]\n",
    "\n",
    "percentage_list = (freq_list/total)*100"
   ]
  },
  {
   "cell_type": "markdown",
   "metadata": {},
   "source": [
    "dep_list variable 'Institute of Infection /  Global Health' updated to just 'Global Health' in order to make the graph\n",
    "look better and also the method of exposure list (found_list) was updated to include the percentage of how affective the overall method of exposure was relative to all users."
   ]
  },
  {
   "cell_type": "code",
   "execution_count": 121,
   "metadata": {
    "collapsed": true
   },
   "outputs": [],
   "source": [
    "dep_list[8] =  'Global Health'\n",
    "\n",
    "for h in range(0, len(found_list)):\n",
    "    found_list[h] = found_list[h] + \"   (\" + str(round(percentage_list[h],1))+ \"%)\""
   ]
  },
  {
   "cell_type": "markdown",
   "metadata": {},
   "source": [
    "A pandas data frame is also created which shows the number of attendees from each department based on how they found out about HiPy."
   ]
  },
  {
   "cell_type": "code",
   "execution_count": 122,
   "metadata": {},
   "outputs": [
    {
     "data": {
      "text/html": [
       "<div>\n",
       "<style>\n",
       "    .dataframe thead tr:only-child th {\n",
       "        text-align: right;\n",
       "    }\n",
       "\n",
       "    .dataframe thead th {\n",
       "        text-align: left;\n",
       "    }\n",
       "\n",
       "    .dataframe tbody tr th {\n",
       "        vertical-align: top;\n",
       "    }\n",
       "</style>\n",
       "<table border=\"1\" class=\"dataframe\">\n",
       "  <thead>\n",
       "    <tr style=\"text-align: right;\">\n",
       "      <th></th>\n",
       "      <th>Email   (53.2%)</th>\n",
       "      <th>Other   (19.1%)</th>\n",
       "      <th>Poster/Flyer   (4.3%)</th>\n",
       "      <th>UoL video screen   (4.3%)</th>\n",
       "      <th>Word of mouth   (19.1%)</th>\n",
       "    </tr>\n",
       "  </thead>\n",
       "  <tbody>\n",
       "    <tr>\n",
       "      <th>Architecture</th>\n",
       "      <td>1.0</td>\n",
       "      <td>0.0</td>\n",
       "      <td>0.0</td>\n",
       "      <td>0.0</td>\n",
       "      <td>0.0</td>\n",
       "    </tr>\n",
       "    <tr>\n",
       "      <th>Astrophysics</th>\n",
       "      <td>1.0</td>\n",
       "      <td>0.0</td>\n",
       "      <td>0.0</td>\n",
       "      <td>0.0</td>\n",
       "      <td>0.0</td>\n",
       "    </tr>\n",
       "    <tr>\n",
       "      <th>Biology</th>\n",
       "      <td>12.0</td>\n",
       "      <td>2.0</td>\n",
       "      <td>1.0</td>\n",
       "      <td>1.0</td>\n",
       "      <td>1.0</td>\n",
       "    </tr>\n",
       "    <tr>\n",
       "      <th>Chemistry</th>\n",
       "      <td>2.0</td>\n",
       "      <td>0.0</td>\n",
       "      <td>0.0</td>\n",
       "      <td>0.0</td>\n",
       "      <td>1.0</td>\n",
       "    </tr>\n",
       "    <tr>\n",
       "      <th>Computer Science</th>\n",
       "      <td>1.0</td>\n",
       "      <td>0.0</td>\n",
       "      <td>0.0</td>\n",
       "      <td>0.0</td>\n",
       "      <td>1.0</td>\n",
       "    </tr>\n",
       "    <tr>\n",
       "      <th>EEE</th>\n",
       "      <td>0.0</td>\n",
       "      <td>1.0</td>\n",
       "      <td>0.0</td>\n",
       "      <td>0.0</td>\n",
       "      <td>0.0</td>\n",
       "    </tr>\n",
       "    <tr>\n",
       "      <th>Earth, Ocean, Ecology</th>\n",
       "      <td>1.0</td>\n",
       "      <td>0.0</td>\n",
       "      <td>1.0</td>\n",
       "      <td>0.0</td>\n",
       "      <td>0.0</td>\n",
       "    </tr>\n",
       "    <tr>\n",
       "      <th>External</th>\n",
       "      <td>2.0</td>\n",
       "      <td>0.0</td>\n",
       "      <td>0.0</td>\n",
       "      <td>0.0</td>\n",
       "      <td>1.0</td>\n",
       "    </tr>\n",
       "    <tr>\n",
       "      <th>Global Health</th>\n",
       "      <td>1.0</td>\n",
       "      <td>0.0</td>\n",
       "      <td>0.0</td>\n",
       "      <td>0.0</td>\n",
       "      <td>0.0</td>\n",
       "    </tr>\n",
       "    <tr>\n",
       "      <th>Management School</th>\n",
       "      <td>0.0</td>\n",
       "      <td>2.0</td>\n",
       "      <td>0.0</td>\n",
       "      <td>0.0</td>\n",
       "      <td>1.0</td>\n",
       "    </tr>\n",
       "    <tr>\n",
       "      <th>Mathematics</th>\n",
       "      <td>0.0</td>\n",
       "      <td>2.0</td>\n",
       "      <td>0.0</td>\n",
       "      <td>1.0</td>\n",
       "      <td>2.0</td>\n",
       "    </tr>\n",
       "    <tr>\n",
       "      <th>Other</th>\n",
       "      <td>1.0</td>\n",
       "      <td>2.0</td>\n",
       "      <td>0.0</td>\n",
       "      <td>0.0</td>\n",
       "      <td>2.0</td>\n",
       "    </tr>\n",
       "    <tr>\n",
       "      <th>Physics</th>\n",
       "      <td>2.0</td>\n",
       "      <td>0.0</td>\n",
       "      <td>0.0</td>\n",
       "      <td>0.0</td>\n",
       "      <td>0.0</td>\n",
       "    </tr>\n",
       "    <tr>\n",
       "      <th>Stephenson Institute</th>\n",
       "      <td>1.0</td>\n",
       "      <td>0.0</td>\n",
       "      <td>0.0</td>\n",
       "      <td>0.0</td>\n",
       "      <td>0.0</td>\n",
       "    </tr>\n",
       "  </tbody>\n",
       "</table>\n",
       "</div>"
      ],
      "text/plain": [
       "                       Email   (53.2%)  Other   (19.1%)  \\\n",
       "Architecture                       1.0              0.0   \n",
       "Astrophysics                       1.0              0.0   \n",
       "Biology                           12.0              2.0   \n",
       "Chemistry                          2.0              0.0   \n",
       "Computer Science                   1.0              0.0   \n",
       "EEE                                0.0              1.0   \n",
       "Earth, Ocean, Ecology              1.0              0.0   \n",
       "External                           2.0              0.0   \n",
       "Global Health                      1.0              0.0   \n",
       "Management School                  0.0              2.0   \n",
       "Mathematics                        0.0              2.0   \n",
       "Other                              1.0              2.0   \n",
       "Physics                            2.0              0.0   \n",
       "Stephenson Institute               1.0              0.0   \n",
       "\n",
       "                       Poster/Flyer   (4.3%)  UoL video screen   (4.3%)  \\\n",
       "Architecture                             0.0                        0.0   \n",
       "Astrophysics                             0.0                        0.0   \n",
       "Biology                                  1.0                        1.0   \n",
       "Chemistry                                0.0                        0.0   \n",
       "Computer Science                         0.0                        0.0   \n",
       "EEE                                      0.0                        0.0   \n",
       "Earth, Ocean, Ecology                    1.0                        0.0   \n",
       "External                                 0.0                        0.0   \n",
       "Global Health                            0.0                        0.0   \n",
       "Management School                        0.0                        0.0   \n",
       "Mathematics                              0.0                        1.0   \n",
       "Other                                    0.0                        0.0   \n",
       "Physics                                  0.0                        0.0   \n",
       "Stephenson Institute                     0.0                        0.0   \n",
       "\n",
       "                       Word of mouth   (19.1%)  \n",
       "Architecture                               0.0  \n",
       "Astrophysics                               0.0  \n",
       "Biology                                    1.0  \n",
       "Chemistry                                  1.0  \n",
       "Computer Science                           1.0  \n",
       "EEE                                        0.0  \n",
       "Earth, Ocean, Ecology                      0.0  \n",
       "External                                   1.0  \n",
       "Global Health                              0.0  \n",
       "Management School                          1.0  \n",
       "Mathematics                                2.0  \n",
       "Other                                      2.0  \n",
       "Physics                                    0.0  \n",
       "Stephenson Institute                       0.0  "
      ]
     },
     "execution_count": 122,
     "metadata": {},
     "output_type": "execute_result"
    }
   ],
   "source": [
    "df = pd.DataFrame(pop_list, columns=found_list, index=dep_list)\n",
    "df"
   ]
  },
  {
   "cell_type": "markdown",
   "metadata": {},
   "source": [
    "A horizontal bar chat with stacked colours using Pandas is created and labels/title set."
   ]
  },
  {
   "cell_type": "code",
   "execution_count": 123,
   "metadata": {},
   "outputs": [
    {
     "data": {
      "text/plain": [
       "<matplotlib.legend.Legend at 0x21b5bdada58>"
      ]
     },
     "execution_count": 123,
     "metadata": {},
     "output_type": "execute_result"
    },
    {
     "data": {
      "image/png": "[encoded data removed]",
      "text/plain": [
       "<matplotlib.figure.Figure at 0x21b5bd95dd8>"
      ]
     },
     "metadata": {},
     "output_type": "display_data"
    }
   ],
   "source": [
    "graph = df.plot.barh(stacked=True, title='HiPy Registrations - 1$^{st}$ Nov 2017', width=0.85)\n",
    "graph.set_xlabel(\"Number of People\")\n",
    "graph.set_ylabel(\"Department\")\n",
    "graph.legend(title=\"Exposure Method\")"
   ]
  },
  {
   "cell_type": "code",
   "execution_count": null,
   "metadata": {
    "collapsed": true
   },
   "outputs": [],
   "source": []
  }
 ],
 "metadata": {
  "kernelspec": {
   "display_name": "Python 3",
   "language": "python",
   "name": "python3"
  },
  "language_info": {
   "codemirror_mode": {
    "name": "ipython",
    "version": 3
   },
   "file_extension": ".py",
   "mimetype": "text/x-python",
   "name": "python",
   "nbconvert_exporter": "python",
   "pygments_lexer": "ipython3",
   "version": "3.6.2"
  }
 },
 "nbformat": 4,
 "nbformat_minor": 2
}
