{
 "cells": [
  {
   "cell_type": "markdown",
   "metadata": {},
   "source": [
    "# Adam Ruby - HiPy Nov 1st Registration Competition"
   ]
  },
  {
   "cell_type": "markdown",
   "metadata": {},
   "source": [
    "Firstly, import modules: \n",
    "- csv to upload the file. \n",
    "- numpy for array manipulation.\n",
    "- pandas for dataframe and plot creation.\n",
    "\n",
    "and allow viewing of the plots."
   ]
  },
  {
   "cell_type": "code",
   "execution_count": 1,
   "metadata": {
    "collapsed": true
   },
   "outputs": [],
   "source": [
    "%matplotlib inline\n",
    "\n",
    "import csv\n",
    "import numpy as np\n",
    "import pandas as pd"
   ]
  },
  {
   "cell_type": "markdown",
   "metadata": {},
   "source": [
    "Module CSV is used to import the registration data as a list"
   ]
  },
  {
   "cell_type": "code",
   "execution_count": 2,
   "metadata": {
    "collapsed": true
   },
   "outputs": [],
   "source": [
    "with open('registration_data.csv', newline='') as f:\n",
    "    reg_csv = csv.reader(f, delimiter=',', skipinitialspace=True)\n",
    "    \n",
    "    reg_list = [line for line in reg_csv]"
   ]
  },
  {
   "cell_type": "markdown",
   "metadata": {},
   "source": [
    "Inital list includes headings in first row. For just the data the first row is excluded."
   ]
  },
  {
   "cell_type": "code",
   "execution_count": 12,
   "metadata": {},
   "outputs": [
    {
     "data": {
      "text/plain": [
       "[['Management School', 'Other'],\n",
       " ['Other', 'Other'],\n",
       " ['Biology', 'Email'],\n",
       " ['Biology', 'Email'],\n",
       " ['Biology', 'Email']]"
      ]
     },
     "execution_count": 12,
     "metadata": {},
     "output_type": "execute_result"
    }
   ],
   "source": [
    "reg_list = reg_list[1:]\n",
    "reg_list[:5]  #To view first five rows as example"
   ]
  },
  {
   "cell_type": "markdown",
   "metadata": {},
   "source": [
    "Lists are made for the variable names in order for it to be possible to count how people found out about HiPy and from what department.\n",
    "- dep_list: List of department names\n",
    "- found_list: List of ways people found out about HiPy"
   ]
  },
  {
   "cell_type": "code",
   "execution_count": 13,
   "metadata": {
    "collapsed": true
   },
   "outputs": [],
   "source": [
    "dep_list = ['Architecture','Astrophysics','Biology','Chemistry','Computer Science','EEE','Earth, Ocean, Ecology','External',\n",
    "            'Institute of Infection /  Global Health','Management School','Mathematics','Other','Physics','Stephenson Institute']\n",
    "found_list = ['Email','Other','Poster/Flyer','UoL video screen','Word of mouth']"
   ]
  },
  {
   "cell_type": "markdown",
   "metadata": {},
   "source": [
    "Initalised count to zero, this will represent the number of people from each department.\n",
    "pop_list is a list used to store the values of count."
   ]
  },
  {
   "cell_type": "code",
   "execution_count": 5,
   "metadata": {
    "collapsed": true
   },
   "outputs": [],
   "source": [
    "count = 0\n",
    "pop_list = np.empty([len(dep_list),len(found_list)])"
   ]
  },
  {
   "cell_type": "markdown",
   "metadata": {},
   "source": [
    "Loop is made so that for each cell containing a certain way of finding out about HiPy (eg 'Email'), the number of people who found out that particular way from each particular department is counted correctly.\n",
    "\n",
    "The names of the variables are iterated through using the lists dep_list and found_list."
   ]
  },
  {
   "cell_type": "code",
   "execution_count": 7,
   "metadata": {},
   "outputs": [],
   "source": [
    "for i in range(0,len(dep_list)):\n",
    "    for j in range(0,len(found_list)):\n",
    "        count = 0\n",
    "        for k in range(0,len(reg_list)):\n",
    "            if reg_list[k][0] == dep_list[i]:\n",
    "                if reg_list[k][1] == found_list[j]:\n",
    "                    count = count + 1\n",
    "        pop_list[i][j] = count"
   ]
  },
  {
   "cell_type": "markdown",
   "metadata": {},
   "source": [
    "dep_list variable 'Institute of Infection /  Global Health' updated to just 'Global Health' in order to make the graph\n",
    "look better.\n",
    "\n",
    "A pandas data frame is also created which shows the number of attendees from each department based on how they found out about HiPy."
   ]
  },
  {
   "cell_type": "code",
   "execution_count": 8,
   "metadata": {},
   "outputs": [
    {
     "data": {
      "text/html": [
       "<div>\n",
       "<style>\n",
       "    .dataframe thead tr:only-child th {\n",
       "        text-align: right;\n",
       "    }\n",
       "\n",
       "    .dataframe thead th {\n",
       "        text-align: left;\n",
       "    }\n",
       "\n",
       "    .dataframe tbody tr th {\n",
       "        vertical-align: top;\n",
       "    }\n",
       "</style>\n",
       "<table border=\"1\" class=\"dataframe\">\n",
       "  <thead>\n",
       "    <tr style=\"text-align: right;\">\n",
       "      <th></th>\n",
       "      <th>Email</th>\n",
       "      <th>Other</th>\n",
       "      <th>Poster/Flyer</th>\n",
       "      <th>UoL video screen</th>\n",
       "      <th>Word of mouth</th>\n",
       "    </tr>\n",
       "  </thead>\n",
       "  <tbody>\n",
       "    <tr>\n",
       "      <th>Architecture</th>\n",
       "      <td>1.0</td>\n",
       "      <td>0.0</td>\n",
       "      <td>0.0</td>\n",
       "      <td>0.0</td>\n",
       "      <td>0.0</td>\n",
       "    </tr>\n",
       "    <tr>\n",
       "      <th>Astrophysics</th>\n",
       "      <td>1.0</td>\n",
       "      <td>0.0</td>\n",
       "      <td>0.0</td>\n",
       "      <td>0.0</td>\n",
       "      <td>0.0</td>\n",
       "    </tr>\n",
       "    <tr>\n",
       "      <th>Biology</th>\n",
       "      <td>12.0</td>\n",
       "      <td>2.0</td>\n",
       "      <td>1.0</td>\n",
       "      <td>1.0</td>\n",
       "      <td>1.0</td>\n",
       "    </tr>\n",
       "    <tr>\n",
       "      <th>Chemistry</th>\n",
       "      <td>2.0</td>\n",
       "      <td>0.0</td>\n",
       "      <td>0.0</td>\n",
       "      <td>0.0</td>\n",
       "      <td>1.0</td>\n",
       "    </tr>\n",
       "    <tr>\n",
       "      <th>Computer Science</th>\n",
       "      <td>1.0</td>\n",
       "      <td>0.0</td>\n",
       "      <td>0.0</td>\n",
       "      <td>0.0</td>\n",
       "      <td>1.0</td>\n",
       "    </tr>\n",
       "    <tr>\n",
       "      <th>EEE</th>\n",
       "      <td>0.0</td>\n",
       "      <td>1.0</td>\n",
       "      <td>0.0</td>\n",
       "      <td>0.0</td>\n",
       "      <td>0.0</td>\n",
       "    </tr>\n",
       "    <tr>\n",
       "      <th>Earth, Ocean, Ecology</th>\n",
       "      <td>1.0</td>\n",
       "      <td>0.0</td>\n",
       "      <td>1.0</td>\n",
       "      <td>0.0</td>\n",
       "      <td>0.0</td>\n",
       "    </tr>\n",
       "    <tr>\n",
       "      <th>External</th>\n",
       "      <td>2.0</td>\n",
       "      <td>0.0</td>\n",
       "      <td>0.0</td>\n",
       "      <td>0.0</td>\n",
       "      <td>1.0</td>\n",
       "    </tr>\n",
       "    <tr>\n",
       "      <th>Global Health</th>\n",
       "      <td>1.0</td>\n",
       "      <td>0.0</td>\n",
       "      <td>0.0</td>\n",
       "      <td>0.0</td>\n",
       "      <td>0.0</td>\n",
       "    </tr>\n",
       "    <tr>\n",
       "      <th>Management School</th>\n",
       "      <td>0.0</td>\n",
       "      <td>2.0</td>\n",
       "      <td>0.0</td>\n",
       "      <td>0.0</td>\n",
       "      <td>1.0</td>\n",
       "    </tr>\n",
       "    <tr>\n",
       "      <th>Mathematics</th>\n",
       "      <td>0.0</td>\n",
       "      <td>2.0</td>\n",
       "      <td>0.0</td>\n",
       "      <td>1.0</td>\n",
       "      <td>2.0</td>\n",
       "    </tr>\n",
       "    <tr>\n",
       "      <th>Other</th>\n",
       "      <td>1.0</td>\n",
       "      <td>2.0</td>\n",
       "      <td>0.0</td>\n",
       "      <td>0.0</td>\n",
       "      <td>2.0</td>\n",
       "    </tr>\n",
       "    <tr>\n",
       "      <th>Physics</th>\n",
       "      <td>2.0</td>\n",
       "      <td>0.0</td>\n",
       "      <td>0.0</td>\n",
       "      <td>0.0</td>\n",
       "      <td>0.0</td>\n",
       "    </tr>\n",
       "    <tr>\n",
       "      <th>Stephenson Institute</th>\n",
       "      <td>1.0</td>\n",
       "      <td>0.0</td>\n",
       "      <td>0.0</td>\n",
       "      <td>0.0</td>\n",
       "      <td>0.0</td>\n",
       "    </tr>\n",
       "  </tbody>\n",
       "</table>\n",
       "</div>"
      ],
      "text/plain": [
       "                       Email  Other  Poster/Flyer  UoL video screen  \\\n",
       "Architecture             1.0    0.0           0.0               0.0   \n",
       "Astrophysics             1.0    0.0           0.0               0.0   \n",
       "Biology                 12.0    2.0           1.0               1.0   \n",
       "Chemistry                2.0    0.0           0.0               0.0   \n",
       "Computer Science         1.0    0.0           0.0               0.0   \n",
       "EEE                      0.0    1.0           0.0               0.0   \n",
       "Earth, Ocean, Ecology    1.0    0.0           1.0               0.0   \n",
       "External                 2.0    0.0           0.0               0.0   \n",
       "Global Health            1.0    0.0           0.0               0.0   \n",
       "Management School        0.0    2.0           0.0               0.0   \n",
       "Mathematics              0.0    2.0           0.0               1.0   \n",
       "Other                    1.0    2.0           0.0               0.0   \n",
       "Physics                  2.0    0.0           0.0               0.0   \n",
       "Stephenson Institute     1.0    0.0           0.0               0.0   \n",
       "\n",
       "                       Word of mouth  \n",
       "Architecture                     0.0  \n",
       "Astrophysics                     0.0  \n",
       "Biology                          1.0  \n",
       "Chemistry                        1.0  \n",
       "Computer Science                 1.0  \n",
       "EEE                              0.0  \n",
       "Earth, Ocean, Ecology            0.0  \n",
       "External                         1.0  \n",
       "Global Health                    0.0  \n",
       "Management School                1.0  \n",
       "Mathematics                      2.0  \n",
       "Other                            2.0  \n",
       "Physics                          0.0  \n",
       "Stephenson Institute             0.0  "
      ]
     },
     "execution_count": 8,
     "metadata": {},
     "output_type": "execute_result"
    }
   ],
   "source": [
    "dep_list[8] =  'Global Health'\n",
    "\n",
    "df = pd.DataFrame(pop_list, columns=found_list, index=dep_list)\n",
    "df"
   ]
  },
  {
   "cell_type": "markdown",
   "metadata": {},
   "source": [
    "A horizontal bar chat with stacked colours using Pandas is created and labels/title set."
   ]
  },
  {
   "cell_type": "code",
   "execution_count": 9,
   "metadata": {},
   "outputs": [
    {
     "data": {
      "text/plain": [
       "<matplotlib.text.Text at 0x20a3db53c88>"
      ]
     },
     "execution_count": 9,
     "metadata": {},
     "output_type": "execute_result"
    },
    {
     "data": {
      "image/png": "[encoded data removed]",
      "text/plain": [
       "<matplotlib.figure.Figure at 0x20a3db4bcc0>"
      ]
     },
     "metadata": {},
     "output_type": "display_data"
    }
   ],
   "source": [
    "graph = df.plot.barh(stacked=True, title='HiPy Registrations - 1 Nov 2017', width=0.85)\n",
    "graph.set_xlabel(\"Number of People\")\n",
    "graph.set_ylabel(\"Department\")"
   ]
  },
  {
   "cell_type": "code",
   "execution_count": null,
   "metadata": {
    "collapsed": true
   },
   "outputs": [],
   "source": []
  }
 ],
 "metadata": {
  "kernelspec": {
   "display_name": "Python 3",
   "language": "python",
   "name": "python3"
  },
  "language_info": {
   "codemirror_mode": {
    "name": "ipython",
    "version": 3
   },
   "file_extension": ".py",
   "mimetype": "text/x-python",
   "name": "python",
   "nbconvert_exporter": "python",
   "pygments_lexer": "ipython3",
   "version": "3.6.2"
  }
 },
 "nbformat": 4,
 "nbformat_minor": 2
}
